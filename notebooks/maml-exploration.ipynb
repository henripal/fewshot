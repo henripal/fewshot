{
 "cells": [
  {
   "cell_type": "code",
   "execution_count": 1,
   "metadata": {},
   "outputs": [],
   "source": [
    "%load_ext autoreload\n",
    "%autoreload 2"
   ]
  },
  {
   "cell_type": "code",
   "execution_count": 2,
   "metadata": {},
   "outputs": [],
   "source": [
    "import sys\n",
    "sys.path.insert(0, '../')\n",
    "import fewshot.proto.sampler\n",
    "import fewshot.proto.trainer\n",
    "import fewshot.maml.maml\n",
    "import fewshot.maml.model\n",
    "import fewshot.data\n",
    "\n",
    "import torch\n",
    "import torch.nn as nn\n",
    "import torch.utils.data\n",
    "import torchvision.transforms as transforms\n",
    "from torchvision import models\n",
    "import torch.optim as optim\n",
    "\n",
    "\n",
    "import matplotlib.pyplot as plt\n",
    "import numpy as np\n",
    "%matplotlib inline"
   ]
  },
  {
   "cell_type": "markdown",
   "metadata": {},
   "source": [
    "# Exploring MAML\n",
    "\n",
    "Just checking that our fewshot.proto.sampler fits with @oscarknagg's implementation of MAML and that everything trains properly:\n"
   ]
  },
  {
   "cell_type": "code",
   "execution_count": 3,
   "metadata": {},
   "outputs": [],
   "source": [
    "train_transform = transforms.Compose([\n",
    "        transforms.Resize(100),\n",
    "        transforms.RandomCrop(80),\n",
    "        transforms.RandomHorizontalFlip(),\n",
    "        transforms.ToTensor(),\n",
    "        transforms.Normalize(mean=[0.485, 0.456, 0.406],\n",
    "                             std=[0.229, 0.224, 0.225])\n",
    "    ])\n",
    "\n",
    "test_transform = transforms.Compose([\n",
    "        transforms.Resize(100),\n",
    "        transforms.CenterCrop(80),\n",
    "        transforms.ToTensor(),\n",
    "        transforms.Normalize(mean=[0.485, 0.456, 0.406],\n",
    "                             std=[0.229, 0.224, 0.225])\n",
    "    ])"
   ]
  },
  {
   "cell_type": "code",
   "execution_count": 4,
   "metadata": {},
   "outputs": [],
   "source": [
    "ds = fewshot.proto.sampler.NShotFashionDataset('../data/fashion-dataset/styles_quoted.csv',\n",
    "                                               '../data/fashion-dataset/images/',\n",
    "                                               classlist=None,\n",
    "                                               transform=test_transform)"
   ]
  },
  {
   "cell_type": "code",
   "execution_count": 5,
   "metadata": {},
   "outputs": [],
   "source": [
    "n, k, q = 5, 10, 20\n",
    "sampler = fewshot.proto.sampler.NShotTaskSampler(ds, episodes_per_epoch=30, n=n, k=k, q=q, bs=4)\n",
    "dl = torch.utils.data.DataLoader(ds, batch_sampler=sampler, num_workers=4)"
   ]
  },
  {
   "cell_type": "code",
   "execution_count": 6,
   "metadata": {},
   "outputs": [],
   "source": [
    "model = fewshot.maml.model.FewShotClassifier(3, k, 1600).cuda()"
   ]
  },
  {
   "cell_type": "code",
   "execution_count": 7,
   "metadata": {},
   "outputs": [],
   "source": [
    "loss_func = torch.nn.CrossEntropyLoss()\n",
    "optimizer = optim.Adam(model.parameters(), lr=0.001)"
   ]
  },
  {
   "cell_type": "code",
   "execution_count": 8,
   "metadata": {},
   "outputs": [],
   "source": [
    "device = torch.device('cuda')"
   ]
  },
  {
   "cell_type": "code",
   "execution_count": 9,
   "metadata": {},
   "outputs": [],
   "source": [
    "losses = []"
   ]
  },
  {
   "cell_type": "code",
   "execution_count": 10,
   "metadata": {},
   "outputs": [],
   "source": [
    "x, y = next(iter(dl))"
   ]
  },
  {
   "cell_type": "markdown",
   "metadata": {},
   "source": [
    "Checking that we can overfit to a single batch:"
   ]
  },
  {
   "cell_type": "code",
   "execution_count": 11,
   "metadata": {
    "scrolled": true
   },
   "outputs": [
    {
     "name": "stdout",
     "output_type": "stream",
     "text": [
      "loss:  2.105039119720459\n",
      "loss:  1.8905718326568604\n",
      "loss:  1.7168676853179932\n",
      "loss:  1.568798542022705\n",
      "loss:  1.4654457569122314\n",
      "loss:  1.3561930656433105\n",
      "loss:  1.2642076015472412\n",
      "loss:  1.1862894296646118\n",
      "loss:  1.0871490240097046\n",
      "loss:  1.0120195150375366\n",
      "loss:  0.9447699189186096\n",
      "loss:  0.8714093565940857\n",
      "loss:  0.8043456673622131\n",
      "loss:  0.7511523962020874\n",
      "loss:  0.7011047601699829\n",
      "loss:  0.6724287271499634\n",
      "loss:  0.6075797080993652\n",
      "loss:  0.554768443107605\n",
      "loss:  0.5373630523681641\n",
      "loss:  0.5047076940536499\n",
      "loss:  0.4716227054595947\n",
      "loss:  0.4530414044857025\n",
      "loss:  0.41742974519729614\n",
      "loss:  0.3990890383720398\n",
      "loss:  0.3854110836982727\n",
      "loss:  0.3472350537776947\n",
      "loss:  0.31305018067359924\n",
      "loss:  0.2959599792957306\n",
      "loss:  0.2934921681880951\n",
      "loss:  0.27284759283065796\n",
      "loss:  0.2613319456577301\n",
      "loss:  0.24893787503242493\n",
      "loss:  0.2390328347682953\n",
      "loss:  0.22823569178581238\n",
      "loss:  0.21382534503936768\n",
      "loss:  0.2012040764093399\n",
      "loss:  0.1854984015226364\n",
      "loss:  0.1697147786617279\n",
      "loss:  0.16481998562812805\n",
      "loss:  0.16715915501117706\n",
      "loss:  0.187912717461586\n",
      "loss:  0.17077895998954773\n",
      "loss:  0.1550639271736145\n",
      "loss:  0.23559200763702393\n",
      "loss:  0.19180703163146973\n",
      "loss:  0.22654204070568085\n",
      "loss:  0.18468964099884033\n",
      "loss:  0.1388409435749054\n",
      "loss:  0.14632141590118408\n",
      "loss:  0.13335861265659332\n",
      "loss:  0.12809181213378906\n",
      "loss:  0.13838258385658264\n",
      "loss:  0.13610900938510895\n",
      "loss:  0.12793444097042084\n",
      "loss:  0.10737674683332443\n",
      "loss:  0.1006736159324646\n",
      "loss:  0.09874919801950455\n",
      "loss:  0.0940188392996788\n",
      "loss:  0.09325700998306274\n",
      "loss:  0.08358252048492432\n",
      "loss:  0.083419069647789\n",
      "loss:  0.08180047571659088\n",
      "loss:  0.07265366613864899\n",
      "loss:  0.07330779731273651\n",
      "loss:  0.07448805868625641\n",
      "loss:  0.06706448644399643\n",
      "loss:  0.06199134141206741\n",
      "loss:  0.05348396301269531\n",
      "loss:  0.0497497022151947\n",
      "loss:  0.044921986758708954\n"
     ]
    }
   ],
   "source": [
    "for _ in range(70):\n",
    "    loss, _ = fewshot.maml.maml.meta_gradient_step(model, optimizer, loss_func, x.cuda().float(), y, n, k, q, 1, 2, .01, True, device)\n",
    "    print('loss: ', loss.item())\n",
    "    losses.append(loss.item())\n"
   ]
  },
  {
   "cell_type": "markdown",
   "metadata": {},
   "source": [
    "Ok, so we can overfit to a single batch - a good sign that we're training!"
   ]
  },
  {
   "cell_type": "code",
   "execution_count": null,
   "metadata": {},
   "outputs": [
    {
     "name": "stdout",
     "output_type": "stream",
     "text": [
      "------------------------ epoch:  0\n",
      "epoch loss:      204.2 epoch accuracy:       30.8\n",
      "------------------------ epoch:  1\n",
      "epoch loss:      193.9 epoch accuracy:       32.4\n",
      "------------------------ epoch:  2\n",
      "epoch loss:      190.0 epoch accuracy:       33.9\n",
      "------------------------ epoch:  3\n",
      "curr loss:      182.3 curr accuracy:       38.2\r"
     ]
    }
   ],
   "source": [
    "losses = []\n",
    "accuracies = []\n",
    "for epoch in range(10):\n",
    "    print('------------------------ epoch: ', epoch)\n",
    "    epoch_losses = []\n",
    "    epoch_accuracies = []\n",
    "    for x, y in dl:\n",
    "        loss, probs = fewshot.maml.maml.meta_gradient_step(model, optimizer, loss_func, x.cuda().float(), y, n, k, q, 1, 2, .01, True, device)\n",
    "        _, predicted = torch.max(probs, 1)\n",
    "        labels = torch.arange(0, k, 1/q).long().cuda().repeat(4)\n",
    "        acc = (predicted == labels).float().mean().item()\n",
    "        epoch_accuracies.append(acc)\n",
    "        epoch_losses.append(loss.item())\n",
    "        print('curr loss: {:10.1f} curr accuracy: {:10.1f}'.format(loss.item()*100, acc*100), end='\\r')\n",
    "        \n",
    "    \n",
    "    epoch_loss = np.mean(epoch_losses)\n",
    "    epoch_accuracy = np.mean(epoch_accuracies)\n",
    "    losses.append(epoch_loss)\n",
    "    accuracies.append(epoch_accuracy)\n",
    "    print('epoch loss: {:10.1f} epoch accuracy: {:10.1f}'.format(epoch_loss*100, epoch_accuracy*100))\n",
    "        \n",
    "        \n",
    "    "
   ]
  },
  {
   "cell_type": "code",
   "execution_count": null,
   "metadata": {},
   "outputs": [],
   "source": []
  }
 ],
 "metadata": {
  "kernelspec": {
   "display_name": "Python 3",
   "language": "python",
   "name": "python3"
  },
  "language_info": {
   "codemirror_mode": {
    "name": "ipython",
    "version": 3
   },
   "file_extension": ".py",
   "mimetype": "text/x-python",
   "name": "python",
   "nbconvert_exporter": "python",
   "pygments_lexer": "ipython3",
   "version": "3.6.3"
  }
 },
 "nbformat": 4,
 "nbformat_minor": 2
}
