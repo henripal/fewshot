{
 "cells": [
  {
   "cell_type": "code",
   "execution_count": 1,
   "metadata": {},
   "outputs": [],
   "source": [
    "import torch\n",
    "import torch.nn as nn\n",
    "import torch.optim as optim\n",
    "from torch.optim import lr_scheduler\n",
    "import numpy as np\n",
    "import torchvision\n",
    "from torchvision import datasets, models, transforms\n",
    "import matplotlib.pyplot as plt\n",
    "%matplotlib inline\n",
    "\n",
    "import pandas as pd\n",
    "import csv\n",
    "import PIL\n",
    "\n",
    "import os"
   ]
  },
  {
   "cell_type": "markdown",
   "metadata": {},
   "source": [
    "# First Pass on the Sample Dataset\n",
    "\n",
    "To do:\n",
    "- labeling and train/test split\n",
    "- creation of the top20 and the 'all' dataset\n",
    "- first training loop and finetuning on small dataset\n",
    "- dealing with imbalanced classes (weighing, focal loss)\n",
    "\n",
    "We will refactor out everything in a module after this exploratory phase to run on the hi-def dataset"
   ]
  },
  {
   "cell_type": "markdown",
   "metadata": {},
   "source": [
    "## Dataset Pre-processing\n"
   ]
  },
  {
   "cell_type": "markdown",
   "metadata": {},
   "source": [
    "First let's load the annotations file:"
   ]
  },
  {
   "cell_type": "code",
   "execution_count": 2,
   "metadata": {},
   "outputs": [],
   "source": [
    "## commas in last column so let's quote it:\n",
    "def fix_quotes(in_csv, out_csv):\n",
    "    \"\"\"\n",
    "    fixes the problem with commas in last column of csv by quoting last column of csv\n",
    "    in_csv: string path to the raw csv file\n",
    "    out_csv: string path to the desired output file.\n",
    "        Will be created if not already existing. If already existing, file will be overwritten\n",
    "    \"\"\"\n",
    "    with open(in_csv) as f, open(out_csv, 'w+') as o:\n",
    "        reader, writer = csv.reader(f), csv.writer(o)\n",
    "        for line in reader:\n",
    "            newline = line[:9] + [','.join(line[9:])]\n",
    "            writer.writerow(newline)"
   ]
  },
  {
   "cell_type": "code",
   "execution_count": 3,
   "metadata": {},
   "outputs": [],
   "source": [
    "fix_quotes('../data/small/styles.csv', '../data/small/styles_quoted.csv')"
   ]
  },
  {
   "cell_type": "code",
   "execution_count": 4,
   "metadata": {},
   "outputs": [],
   "source": [
    "styles = pd.read_csv('../data/small/styles_quoted.csv')"
   ]
  },
  {
   "cell_type": "code",
   "execution_count": 5,
   "metadata": {},
   "outputs": [
    {
     "data": {
      "text/html": [
       "<div>\n",
       "<style scoped>\n",
       "    .dataframe tbody tr th:only-of-type {\n",
       "        vertical-align: middle;\n",
       "    }\n",
       "\n",
       "    .dataframe tbody tr th {\n",
       "        vertical-align: top;\n",
       "    }\n",
       "\n",
       "    .dataframe thead th {\n",
       "        text-align: right;\n",
       "    }\n",
       "</style>\n",
       "<table border=\"1\" class=\"dataframe\">\n",
       "  <thead>\n",
       "    <tr style=\"text-align: right;\">\n",
       "      <th></th>\n",
       "      <th>id</th>\n",
       "      <th>gender</th>\n",
       "      <th>masterCategory</th>\n",
       "      <th>subCategory</th>\n",
       "      <th>articleType</th>\n",
       "      <th>baseColour</th>\n",
       "      <th>season</th>\n",
       "      <th>year</th>\n",
       "      <th>usage</th>\n",
       "      <th>productDisplayName</th>\n",
       "    </tr>\n",
       "  </thead>\n",
       "  <tbody>\n",
       "    <tr>\n",
       "      <th>0</th>\n",
       "      <td>15970</td>\n",
       "      <td>Men</td>\n",
       "      <td>Apparel</td>\n",
       "      <td>Topwear</td>\n",
       "      <td>Shirts</td>\n",
       "      <td>Navy Blue</td>\n",
       "      <td>Fall</td>\n",
       "      <td>2011.0</td>\n",
       "      <td>Casual</td>\n",
       "      <td>Turtle Check Men Navy Blue Shirt</td>\n",
       "    </tr>\n",
       "    <tr>\n",
       "      <th>1</th>\n",
       "      <td>39386</td>\n",
       "      <td>Men</td>\n",
       "      <td>Apparel</td>\n",
       "      <td>Bottomwear</td>\n",
       "      <td>Jeans</td>\n",
       "      <td>Blue</td>\n",
       "      <td>Summer</td>\n",
       "      <td>2012.0</td>\n",
       "      <td>Casual</td>\n",
       "      <td>Peter England Men Party Blue Jeans</td>\n",
       "    </tr>\n",
       "    <tr>\n",
       "      <th>2</th>\n",
       "      <td>59263</td>\n",
       "      <td>Women</td>\n",
       "      <td>Accessories</td>\n",
       "      <td>Watches</td>\n",
       "      <td>Watches</td>\n",
       "      <td>Silver</td>\n",
       "      <td>Winter</td>\n",
       "      <td>2016.0</td>\n",
       "      <td>Casual</td>\n",
       "      <td>Titan Women Silver Watch</td>\n",
       "    </tr>\n",
       "    <tr>\n",
       "      <th>3</th>\n",
       "      <td>21379</td>\n",
       "      <td>Men</td>\n",
       "      <td>Apparel</td>\n",
       "      <td>Bottomwear</td>\n",
       "      <td>Track Pants</td>\n",
       "      <td>Black</td>\n",
       "      <td>Fall</td>\n",
       "      <td>2011.0</td>\n",
       "      <td>Casual</td>\n",
       "      <td>Manchester United Men Solid Black Track Pants</td>\n",
       "    </tr>\n",
       "    <tr>\n",
       "      <th>4</th>\n",
       "      <td>53759</td>\n",
       "      <td>Men</td>\n",
       "      <td>Apparel</td>\n",
       "      <td>Topwear</td>\n",
       "      <td>Tshirts</td>\n",
       "      <td>Grey</td>\n",
       "      <td>Summer</td>\n",
       "      <td>2012.0</td>\n",
       "      <td>Casual</td>\n",
       "      <td>Puma Men Grey T-shirt</td>\n",
       "    </tr>\n",
       "  </tbody>\n",
       "</table>\n",
       "</div>"
      ],
      "text/plain": [
       "      id gender masterCategory subCategory  articleType baseColour  season  \\\n",
       "0  15970    Men        Apparel     Topwear       Shirts  Navy Blue    Fall   \n",
       "1  39386    Men        Apparel  Bottomwear        Jeans       Blue  Summer   \n",
       "2  59263  Women    Accessories     Watches      Watches     Silver  Winter   \n",
       "3  21379    Men        Apparel  Bottomwear  Track Pants      Black    Fall   \n",
       "4  53759    Men        Apparel     Topwear      Tshirts       Grey  Summer   \n",
       "\n",
       "     year   usage                             productDisplayName  \n",
       "0  2011.0  Casual               Turtle Check Men Navy Blue Shirt  \n",
       "1  2012.0  Casual             Peter England Men Party Blue Jeans  \n",
       "2  2016.0  Casual                       Titan Women Silver Watch  \n",
       "3  2011.0  Casual  Manchester United Men Solid Black Track Pants  \n",
       "4  2012.0  Casual                          Puma Men Grey T-shirt  "
      ]
     },
     "execution_count": 5,
     "metadata": {},
     "output_type": "execute_result"
    }
   ],
   "source": [
    "styles.head()"
   ]
  },
  {
   "cell_type": "markdown",
   "metadata": {},
   "source": [
    "We also need a way to open the images from files:"
   ]
  },
  {
   "cell_type": "code",
   "execution_count": 6,
   "metadata": {},
   "outputs": [],
   "source": [
    "def pil_loader(path):\n",
    "    with open(path, 'rb') as f:\n",
    "        img = PIL.Image.open(f)\n",
    "        return img.convert('RGB')"
   ]
  },
  {
   "cell_type": "markdown",
   "metadata": {},
   "source": [
    "### How to organize the data/datasets/dataloaders?\n",
    "\n",
    "In addition to the usual train/test split, we need here to split the data in top20/not top20.\n",
    "To do that we'll implement a helper class, `FashionData` containing the train and test datasets:"
   ]
  },
  {
   "cell_type": "code",
   "execution_count": 7,
   "metadata": {},
   "outputs": [],
   "source": [
    "class FashionData:\n",
    "    def __init__(self, csv_file, images_root, train_transform=None, test_transform=None, top20=False):\n",
    "        self.images_root = images_root\n",
    "        self.top20 = top20\n",
    "        self.csv_file = csv_file\n",
    "        \n",
    "        self.imagelist = [imagefile.split('.')[0] for imagefile in os.listdir(images_root)]\n",
    "        self.label_data = pd.read_csv(csv_file)\n",
    "        self.filter_existing_images()\n",
    "        self.make_label_utils()\n",
    "        if top20: self.filter_top20()\n",
    "        \n",
    "        \n",
    "        self.train_ds = FashionDataset(self.label_data[self.label_data.year % 2 == 0].reset_index(drop=True),\n",
    "                                      images_root,\n",
    "                                      train_transform)\n",
    "        self.test_ds = FashionDataset(self.label_data[self.label_data.year % 2 == 1].reset_index(drop=True),\n",
    "                                     images_root,\n",
    "                                     test_transform)\n",
    "        \n",
    "    def make_label_utils(self):\n",
    "        self.idx2name = self.label_data.articleType.value_counts().index.values\n",
    "        self.name2idx = {name: idx for idx, name in enumerate(self.idx2name)}\n",
    "            \n",
    "    def filter_existing_images(self):\n",
    "        \"\"\"\n",
    "        truncates the dataframe to images that are found in path\n",
    "        \"\"\"\n",
    "        self.label_data = self.label_data[self.label_data.id.isin(self.imagelist)]\n",
    "        if len(self.label_data) == 0: raise FileNotFoundError('Image directory is empty or does not match csv file')\n",
    "    \n",
    "    def filter_top20(self):\n",
    "        self.label_data = self.label_data[self.label_data.articleType.isin(self.idx2name[:20])]"
   ]
  },
  {
   "cell_type": "markdown",
   "metadata": {},
   "source": [
    "Remains now to implement `FashionDataset` inheriting from the torchdata `Dataset`:"
   ]
  },
  {
   "cell_type": "code",
   "execution_count": 8,
   "metadata": {},
   "outputs": [],
   "source": [
    "class FashionDataset(torch.utils.data.Dataset):\n",
    "    def __init__(self, label_data, images_root, transform=None):\n",
    "        \"\"\"\n",
    "        csv_file: path to csv file containing the labels (styles.csv)\n",
    "        images_root: path to the images\n",
    "        transform: list of transforms we want to apply\n",
    "        train: whether we want to get the train images or the test images\n",
    "        top20: whether we want to limit the images to the top20 most frequent classes\n",
    "        \"\"\"\n",
    "        self.images_root = images_root\n",
    "        self.transform = transform\n",
    "        self.label_data = label_data\n",
    "            \n",
    "    def __len__(self):\n",
    "        return len(self.label_data)\n",
    "    \n",
    "    def __getitem__(self, idx):\n",
    "        img_id, label = self.label_data.loc[idx, ['id', 'articleType']].values\n",
    "        filename = os.path.join(self.images_root, str(img_id) + '.jpg')\n",
    "        \n",
    "        img = pil_loader(filename)\n",
    "        \n",
    "        if self.transform:\n",
    "            img = self.transform(img)\n",
    "        \n",
    "        return img, label\n",
    "    \n",
    "        \n",
    "        \n"
   ]
  },
  {
   "cell_type": "markdown",
   "metadata": {},
   "source": [
    "### Data Augmentation & checking that this all works\n",
    "\n",
    "We want to implement basic data augmentation. Here I only use a couple torchvision transformations, but it would be interesting to test the impact of adding more transforms (affine transforms, color/hue/saturation).\n",
    "\n",
    "Also the usual ImageNet normalization.\n",
    "\n",
    "The resize and crop are a little strange here - just don't want the output image to be too small for Resnet"
   ]
  },
  {
   "cell_type": "code",
   "execution_count": 9,
   "metadata": {},
   "outputs": [],
   "source": [
    "train_transform = transforms.Compose([\n",
    "        transforms.Resize(300),\n",
    "        transforms.RandomCrop(220),\n",
    "        transforms.RandomHorizontalFlip(),\n",
    "        transforms.ToTensor(),\n",
    "        transforms.Normalize(mean=[0.485, 0.456, 0.406],\n",
    "                             std=[0.229, 0.224, 0.225])\n",
    "    ])\n",
    "\n",
    "test_transform = transforms.Compose([\n",
    "        transforms.Resize(300),\n",
    "        transforms.CenterCrop(220),\n",
    "        transforms.ToTensor(),\n",
    "        transforms.Normalize(mean=[0.485, 0.456, 0.406],\n",
    "                             std=[0.229, 0.224, 0.225])\n",
    "    ])"
   ]
  },
  {
   "cell_type": "code",
   "execution_count": 10,
   "metadata": {},
   "outputs": [],
   "source": [
    "data = FashionData('../data/small/styles_quoted.csv',\n",
    "                   '../data/small/images/',\n",
    "                  train_transform=train_transform,\n",
    "                  test_transform=test_transform,\n",
    "                  top20=True)"
   ]
  },
  {
   "cell_type": "code",
   "execution_count": 11,
   "metadata": {},
   "outputs": [
    {
     "data": {
      "text/plain": [
       "(15148, 18000)"
      ]
     },
     "execution_count": 11,
     "metadata": {},
     "output_type": "execute_result"
    }
   ],
   "source": [
    "len(data.test_ds), len(data.train_ds)"
   ]
  },
  {
   "cell_type": "code",
   "execution_count": 12,
   "metadata": {},
   "outputs": [],
   "source": [
    "def tensor2img(tensor):\n",
    "    \"\"\"\n",
    "    converts tensor and displays image\n",
    "    \"\"\"\n",
    "    rescaled = (tensor - tensor.min())/(tensor.max() - tensor.min())\n",
    "    plt.imshow(rescaled.numpy().swapaxes(0, 2).swapaxes(0, 1))"
   ]
  },
  {
   "cell_type": "code",
   "execution_count": 13,
   "metadata": {},
   "outputs": [
    {
     "data": {
      "image/png": "[encoded data removed]",
      "text/plain": [
       "<matplotlib.figure.Figure at 0x7f6d74bd86a0>"
      ]
     },
     "metadata": {},
     "output_type": "display_data"
    },
    {
     "data": {
      "image/png": "[encoded data removed]",
      "text/plain": [
       "<matplotlib.figure.Figure at 0x7f6d74bd8cf8>"
      ]
     },
     "metadata": {},
     "output_type": "display_data"
    }
   ],
   "source": [
    "plt.figure()\n",
    "tensor2img(data.train_ds[0][0])\n",
    "plt.figure()\n",
    "tensor2img(data.train_ds[0][0])"
   ]
  },
  {
   "cell_type": "markdown",
   "metadata": {},
   "source": [
    "Looks like everything works OK. Remains to shove these in the dataloaders:"
   ]
  },
  {
   "cell_type": "code",
   "execution_count": 14,
   "metadata": {},
   "outputs": [],
   "source": [
    "train_dl = torch.utils.data.DataLoader(data.train_ds,\n",
    "                                 batch_size=64, shuffle=True,\n",
    "                                 num_workers=4)\n",
    "test_dl = torch.utils.data.DataLoader(data.test_ds,\n",
    "                                 batch_size=128, shuffle=True,\n",
    "                                 num_workers=4)"
   ]
  },
  {
   "cell_type": "code",
   "execution_count": 15,
   "metadata": {},
   "outputs": [],
   "source": [
    "n_classes = len(data.idx2name)"
   ]
  },
  {
   "cell_type": "markdown",
   "metadata": {},
   "source": [
    "## Basic training loop to see if everything works\n",
    "\n",
    "We first load the pretrained resnet and change the last layer."
   ]
  },
  {
   "cell_type": "code",
   "execution_count": 16,
   "metadata": {},
   "outputs": [],
   "source": [
    "model = torchvision.models.resnet50(pretrained=True)\n",
    "num_ftrs = model.fc.in_features\n",
    "\n",
    "## replacing the last layer with the dense layer we need\n",
    "model.fc = nn.Linear(num_ftrs, n_classes)"
   ]
  },
  {
   "cell_type": "code",
   "execution_count": 17,
   "metadata": {},
   "outputs": [],
   "source": [
    "batch, labels = next(iter(train_dl))"
   ]
  },
  {
   "cell_type": "code",
   "execution_count": 18,
   "metadata": {},
   "outputs": [
    {
     "data": {
      "text/plain": [
       "torch.Size([64, 142])"
      ]
     },
     "execution_count": 18,
     "metadata": {},
     "output_type": "execute_result"
    }
   ],
   "source": [
    "model(batch).shape"
   ]
  },
  {
   "cell_type": "markdown",
   "metadata": {},
   "source": [
    "Model runs, now let's walk through a basic training loop to see if it trains. We'll factor out the training loop after."
   ]
  },
  {
   "cell_type": "code",
   "execution_count": 19,
   "metadata": {},
   "outputs": [],
   "source": [
    "loss_func = nn.CrossEntropyLoss()\n",
    "optimizer = optim.Adam(model.parameters(), lr=0.001)\n",
    "model.cuda();"
   ]
  },
  {
   "cell_type": "code",
   "execution_count": 20,
   "metadata": {
    "scrolled": true
   },
   "outputs": [
    {
     "name": "stdout",
     "output_type": "stream",
     "text": [
      "------------- epoch:  0\n",
      "Training loss: 0.762\n",
      "Validation loss: 1.643\n",
      "Validation accuracy: 0.655\n",
      "------------- epoch:  1\n",
      "Training loss: 0.471\n",
      "Validation loss: 1.287\n",
      "Validation accuracy: 0.708\n",
      "------------- epoch:  2\n",
      "Training loss: 0.397\n",
      "Validation loss: 1.060\n",
      "Validation accuracy: 0.787\n"
     ]
    }
   ],
   "source": [
    "n_epochs = 3\n",
    "for epoch in range(n_epochs):\n",
    "    print('------------- epoch: ', epoch)\n",
    "    \n",
    "    # training\n",
    "    running_losses = []\n",
    "    model.train()\n",
    "    for images, labels in train_dl:\n",
    "        images = images.cuda()\n",
    "        labels = torch.tensor([data.name2idx[label] for label in labels]).cuda()\n",
    "        optimizer.zero_grad()\n",
    "        out = model(images)\n",
    "\n",
    "        loss = loss_func(out, labels)\n",
    "        running_losses.append(loss.item())\n",
    "        loss.backward()\n",
    "        optimizer.step()\n",
    "        \n",
    "    print('Training loss: {:.3f}'.format(np.mean(running_losses)))\n",
    "        \n",
    "    # validation\n",
    "    model.eval()\n",
    "    running_val_losses = []\n",
    "    running_accuracies = []\n",
    "    for images, labels in test_dl:\n",
    "        with torch.no_grad():\n",
    "            images = images.cuda()\n",
    "            labels = torch.tensor([data.name2idx[label] for label in labels]).cuda()\n",
    "            out = model(images)\n",
    "            loss = loss_func(out, labels)\n",
    "            running_val_losses.append(loss.item())\n",
    "            _, predicted = torch.max(out.data, 1)\n",
    "            running_accuracies.append((predicted == labels).float().mean().item())\n",
    "        \n",
    "    print('Validation loss: {:.3f}'.format(np.mean(running_val_losses)))\n",
    "    print('Validation accuracy: {:.3f}'.format(np.mean(running_accuracies)))\n",
    "    \n",
    "    \n",
    "    \n",
    "    \n",
    "    "
   ]
  },
  {
   "cell_type": "markdown",
   "metadata": {},
   "source": [
    "____\n",
    "Model is training, accuracy seems like it's on the right track. Fine tuning on rare classes tomorrow, then moving on to the real dataset."
   ]
  },
  {
   "cell_type": "code",
   "execution_count": null,
   "metadata": {},
   "outputs": [],
   "source": []
  }
 ],
 "metadata": {
  "kernelspec": {
   "display_name": "Python 3",
   "language": "python",
   "name": "python3"
  },
  "language_info": {
   "codemirror_mode": {
    "name": "ipython",
    "version": 3
   },
   "file_extension": ".py",
   "mimetype": "text/x-python",
   "name": "python",
   "nbconvert_exporter": "python",
   "pygments_lexer": "ipython3",
   "version": "3.6.3"
  }
 },
 "nbformat": 4,
 "nbformat_minor": 2
}
